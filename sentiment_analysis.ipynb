{
 "cells": [
  {
   "cell_type": "code",
   "execution_count": 1,
   "metadata": {},
   "outputs": [],
   "source": [
    "import pandas as pd\n",
    "import numpy as np\n",
    "import matplotlib.pyplot as plt"
   ]
  },
  {
   "cell_type": "markdown",
   "metadata": {},
   "source": [
    "#### Data Preprocessing"
   ]
  },
  {
   "cell_type": "code",
   "execution_count": 2,
   "metadata": {},
   "outputs": [],
   "source": [
    "data = pd.read_csv('dataset\\sentiment_analysis.csv')"
   ]
  },
  {
   "cell_type": "code",
   "execution_count": 3,
   "metadata": {},
   "outputs": [
    {
     "data": {
      "text/html": [
       "<div>\n",
       "<style scoped>\n",
       "    .dataframe tbody tr th:only-of-type {\n",
       "        vertical-align: middle;\n",
       "    }\n",
       "\n",
       "    .dataframe tbody tr th {\n",
       "        vertical-align: top;\n",
       "    }\n",
       "\n",
       "    .dataframe thead th {\n",
       "        text-align: right;\n",
       "    }\n",
       "</style>\n",
       "<table border=\"1\" class=\"dataframe\">\n",
       "  <thead>\n",
       "    <tr style=\"text-align: right;\">\n",
       "      <th></th>\n",
       "      <th>id</th>\n",
       "      <th>label</th>\n",
       "      <th>tweet</th>\n",
       "    </tr>\n",
       "  </thead>\n",
       "  <tbody>\n",
       "    <tr>\n",
       "      <th>0</th>\n",
       "      <td>1</td>\n",
       "      <td>0</td>\n",
       "      <td>#fingerprint #Pregnancy Test https://goo.gl/h1...</td>\n",
       "    </tr>\n",
       "    <tr>\n",
       "      <th>1</th>\n",
       "      <td>2</td>\n",
       "      <td>0</td>\n",
       "      <td>Finally a transparant silicon case ^^ Thanks t...</td>\n",
       "    </tr>\n",
       "    <tr>\n",
       "      <th>2</th>\n",
       "      <td>3</td>\n",
       "      <td>0</td>\n",
       "      <td>We love this! Would you go? #talk #makememorie...</td>\n",
       "    </tr>\n",
       "    <tr>\n",
       "      <th>3</th>\n",
       "      <td>4</td>\n",
       "      <td>0</td>\n",
       "      <td>I'm wired I know I'm George I was made that wa...</td>\n",
       "    </tr>\n",
       "    <tr>\n",
       "      <th>4</th>\n",
       "      <td>5</td>\n",
       "      <td>1</td>\n",
       "      <td>What amazing service! Apple won't even talk to...</td>\n",
       "    </tr>\n",
       "  </tbody>\n",
       "</table>\n",
       "</div>"
      ],
      "text/plain": [
       "   id  label                                              tweet\n",
       "0   1      0  #fingerprint #Pregnancy Test https://goo.gl/h1...\n",
       "1   2      0  Finally a transparant silicon case ^^ Thanks t...\n",
       "2   3      0  We love this! Would you go? #talk #makememorie...\n",
       "3   4      0  I'm wired I know I'm George I was made that wa...\n",
       "4   5      1  What amazing service! Apple won't even talk to..."
      ]
     },
     "execution_count": 3,
     "metadata": {},
     "output_type": "execute_result"
    }
   ],
   "source": [
    "data.head(5)"
   ]
  },
  {
   "cell_type": "code",
   "execution_count": 4,
   "metadata": {},
   "outputs": [
    {
     "data": {
      "text/plain": [
       "(7920, 3)"
      ]
     },
     "execution_count": 4,
     "metadata": {},
     "output_type": "execute_result"
    }
   ],
   "source": [
    "data.shape"
   ]
  },
  {
   "cell_type": "code",
   "execution_count": 5,
   "metadata": {},
   "outputs": [
    {
     "data": {
      "text/plain": [
       "np.int64(0)"
      ]
     },
     "execution_count": 5,
     "metadata": {},
     "output_type": "execute_result"
    }
   ],
   "source": [
    "data.duplicated().sum()"
   ]
  },
  {
   "cell_type": "code",
   "execution_count": 6,
   "metadata": {},
   "outputs": [
    {
     "data": {
      "text/plain": [
       "id       0\n",
       "label    0\n",
       "tweet    0\n",
       "dtype: int64"
      ]
     },
     "execution_count": 6,
     "metadata": {},
     "output_type": "execute_result"
    }
   ],
   "source": [
    "data.isnull().sum()"
   ]
  },
  {
   "cell_type": "markdown",
   "metadata": {},
   "source": [
    "#### Text Preprocessing "
   ]
  },
  {
   "cell_type": "markdown",
   "metadata": {},
   "source": [
    "1.Convert Uppercase to Lowercase\n",
    "\n",
    "2.Remove Links\n",
    "\n",
    "3.Remove Punctuations\n",
    "\n",
    "4.Remove Numbers\n",
    "\n",
    "5.Remove Stopwords\n",
    "\n",
    "6.Stemming\n",
    "\n",
    "Eg : creating,creative,creates = create"
   ]
  },
  {
   "cell_type": "code",
   "execution_count": 7,
   "metadata": {},
   "outputs": [],
   "source": [
    "import re\n",
    "import string"
   ]
  },
  {
   "cell_type": "markdown",
   "metadata": {},
   "source": [
    "convert uppercase to lowercase"
   ]
  },
  {
   "cell_type": "code",
   "execution_count": 8,
   "metadata": {},
   "outputs": [],
   "source": [
    "data[\"tweet\"] = data[\"tweet\"].apply(lambda x: \" \".join(x.lower() for x in x.split()))"
   ]
  },
  {
   "cell_type": "code",
   "execution_count": 9,
   "metadata": {},
   "outputs": [
    {
     "data": {
      "text/plain": [
       "0    #fingerprint #pregnancy test https://goo.gl/h1...\n",
       "1    finally a transparant silicon case ^^ thanks t...\n",
       "2    we love this! would you go? #talk #makememorie...\n",
       "3    i'm wired i know i'm george i was made that wa...\n",
       "4    what amazing service! apple won't even talk to...\n",
       "Name: tweet, dtype: object"
      ]
     },
     "execution_count": 9,
     "metadata": {},
     "output_type": "execute_result"
    }
   ],
   "source": [
    "data[\"tweet\"].head(5)"
   ]
  },
  {
   "cell_type": "code",
   "execution_count": 10,
   "metadata": {},
   "outputs": [],
   "source": [
    "data[\"tweet\"] = data[\"tweet\"].apply(lambda x: \" \".join(re.sub(r\"http\\S+|www\\S+|https\\S+\", \"\", word, flags=re.MULTILINE) for word in x.split()))"
   ]
  },
  {
   "cell_type": "code",
   "execution_count": 11,
   "metadata": {},
   "outputs": [
    {
     "data": {
      "text/plain": [
       "0    #fingerprint #pregnancy test  #android #apps #...\n",
       "1    finally a transparant silicon case ^^ thanks t...\n",
       "2    we love this! would you go? #talk #makememorie...\n",
       "3    i'm wired i know i'm george i was made that wa...\n",
       "4    what amazing service! apple won't even talk to...\n",
       "Name: tweet, dtype: object"
      ]
     },
     "execution_count": 11,
     "metadata": {},
     "output_type": "execute_result"
    }
   ],
   "source": [
    "data[\"tweet\"].head(5)"
   ]
  },
  {
   "cell_type": "markdown",
   "metadata": {},
   "source": [
    "Remove Punctuations"
   ]
  },
  {
   "cell_type": "code",
   "execution_count": 12,
   "metadata": {},
   "outputs": [],
   "source": [
    "def remove_punctuations(text):\n",
    "    for punctuation in string.punctuation:\n",
    "        text = text.replace(punctuation, '')\n",
    "    return text\n",
    "\n",
    "data[\"tweet\"] = data[\"tweet\"].apply(remove_punctuations)"
   ]
  },
  {
   "cell_type": "code",
   "execution_count": 13,
   "metadata": {},
   "outputs": [
    {
     "data": {
      "text/plain": [
       "0    fingerprint pregnancy test  android apps beaut...\n",
       "1    finally a transparant silicon case  thanks to ...\n",
       "2    we love this would you go talk makememories un...\n",
       "3    im wired i know im george i was made that way ...\n",
       "4    what amazing service apple wont even talk to m...\n",
       "Name: tweet, dtype: object"
      ]
     },
     "execution_count": 13,
     "metadata": {},
     "output_type": "execute_result"
    }
   ],
   "source": [
    "data[\"tweet\"].head(5)"
   ]
  },
  {
   "cell_type": "markdown",
   "metadata": {},
   "source": [
    "Remove Numbers"
   ]
  },
  {
   "cell_type": "code",
   "execution_count": 14,
   "metadata": {},
   "outputs": [],
   "source": [
    "data[\"tweet\"]= data['tweet'].str.replace('\\d+','', regex=True)"
   ]
  },
  {
   "cell_type": "markdown",
   "metadata": {},
   "source": [
    "Remove stopwords"
   ]
  },
  {
   "cell_type": "code",
   "execution_count": 15,
   "metadata": {},
   "outputs": [],
   "source": [
    "import nltk"
   ]
  },
  {
   "cell_type": "code",
   "execution_count": 16,
   "metadata": {},
   "outputs": [
    {
     "name": "stderr",
     "output_type": "stream",
     "text": [
      "[nltk_data] Downloading package stopwords to static\\model...\n",
      "[nltk_data]   Package stopwords is already up-to-date!\n"
     ]
    },
    {
     "data": {
      "text/plain": [
       "True"
      ]
     },
     "execution_count": 16,
     "metadata": {},
     "output_type": "execute_result"
    }
   ],
   "source": [
    "nltk.download('stopwords', download_dir='static\\model')"
   ]
  },
  {
   "cell_type": "code",
   "execution_count": 17,
   "metadata": {},
   "outputs": [],
   "source": [
    "with open('static\\model\\corpora\\stopwords\\english', 'r') as file:\n",
    "    sw = file.read().splitlines()"
   ]
  },
  {
   "cell_type": "code",
   "execution_count": 18,
   "metadata": {},
   "outputs": [
    {
     "data": {
      "text/plain": [
       "['i',\n",
       " 'me',\n",
       " 'my',\n",
       " 'myself',\n",
       " 'we',\n",
       " 'our',\n",
       " 'ours',\n",
       " 'ourselves',\n",
       " 'you',\n",
       " \"you're\",\n",
       " \"you've\",\n",
       " \"you'll\",\n",
       " \"you'd\",\n",
       " 'your',\n",
       " 'yours',\n",
       " 'yourself',\n",
       " 'yourselves',\n",
       " 'he',\n",
       " 'him',\n",
       " 'his',\n",
       " 'himself',\n",
       " 'she',\n",
       " \"she's\",\n",
       " 'her',\n",
       " 'hers',\n",
       " 'herself',\n",
       " 'it',\n",
       " \"it's\",\n",
       " 'its',\n",
       " 'itself',\n",
       " 'they',\n",
       " 'them',\n",
       " 'their',\n",
       " 'theirs',\n",
       " 'themselves',\n",
       " 'what',\n",
       " 'which',\n",
       " 'who',\n",
       " 'whom',\n",
       " 'this',\n",
       " 'that',\n",
       " \"that'll\",\n",
       " 'these',\n",
       " 'those',\n",
       " 'am',\n",
       " 'is',\n",
       " 'are',\n",
       " 'was',\n",
       " 'were',\n",
       " 'be',\n",
       " 'been',\n",
       " 'being',\n",
       " 'have',\n",
       " 'has',\n",
       " 'had',\n",
       " 'having',\n",
       " 'do',\n",
       " 'does',\n",
       " 'did',\n",
       " 'doing',\n",
       " 'a',\n",
       " 'an',\n",
       " 'the',\n",
       " 'and',\n",
       " 'but',\n",
       " 'if',\n",
       " 'or',\n",
       " 'because',\n",
       " 'as',\n",
       " 'until',\n",
       " 'while',\n",
       " 'of',\n",
       " 'at',\n",
       " 'by',\n",
       " 'for',\n",
       " 'with',\n",
       " 'about',\n",
       " 'against',\n",
       " 'between',\n",
       " 'into',\n",
       " 'through',\n",
       " 'during',\n",
       " 'before',\n",
       " 'after',\n",
       " 'above',\n",
       " 'below',\n",
       " 'to',\n",
       " 'from',\n",
       " 'up',\n",
       " 'down',\n",
       " 'in',\n",
       " 'out',\n",
       " 'on',\n",
       " 'off',\n",
       " 'over',\n",
       " 'under',\n",
       " 'again',\n",
       " 'further',\n",
       " 'then',\n",
       " 'once',\n",
       " 'here',\n",
       " 'there',\n",
       " 'when',\n",
       " 'where',\n",
       " 'why',\n",
       " 'how',\n",
       " 'all',\n",
       " 'any',\n",
       " 'both',\n",
       " 'each',\n",
       " 'few',\n",
       " 'more',\n",
       " 'most',\n",
       " 'other',\n",
       " 'some',\n",
       " 'such',\n",
       " 'no',\n",
       " 'nor',\n",
       " 'not',\n",
       " 'only',\n",
       " 'own',\n",
       " 'same',\n",
       " 'so',\n",
       " 'than',\n",
       " 'too',\n",
       " 'very',\n",
       " 's',\n",
       " 't',\n",
       " 'can',\n",
       " 'will',\n",
       " 'just',\n",
       " 'don',\n",
       " \"don't\",\n",
       " 'should',\n",
       " \"should've\",\n",
       " 'now',\n",
       " 'd',\n",
       " 'll',\n",
       " 'm',\n",
       " 'o',\n",
       " 're',\n",
       " 've',\n",
       " 'y',\n",
       " 'ain',\n",
       " 'aren',\n",
       " \"aren't\",\n",
       " 'couldn',\n",
       " \"couldn't\",\n",
       " 'didn',\n",
       " \"didn't\",\n",
       " 'doesn',\n",
       " \"doesn't\",\n",
       " 'hadn',\n",
       " \"hadn't\",\n",
       " 'hasn',\n",
       " \"hasn't\",\n",
       " 'haven',\n",
       " \"haven't\",\n",
       " 'isn',\n",
       " \"isn't\",\n",
       " 'ma',\n",
       " 'mightn',\n",
       " \"mightn't\",\n",
       " 'mustn',\n",
       " \"mustn't\",\n",
       " 'needn',\n",
       " \"needn't\",\n",
       " 'shan',\n",
       " \"shan't\",\n",
       " 'shouldn',\n",
       " \"shouldn't\",\n",
       " 'wasn',\n",
       " \"wasn't\",\n",
       " 'weren',\n",
       " \"weren't\",\n",
       " 'won',\n",
       " \"won't\",\n",
       " 'wouldn',\n",
       " \"wouldn't\"]"
      ]
     },
     "execution_count": 18,
     "metadata": {},
     "output_type": "execute_result"
    }
   ],
   "source": [
    "sw"
   ]
  },
  {
   "cell_type": "code",
   "execution_count": 19,
   "metadata": {},
   "outputs": [],
   "source": [
    "data[\"tweet\"] = data[\"tweet\"].apply(lambda x: \" \".join(x for x in x.split() if x not in sw))"
   ]
  },
  {
   "cell_type": "code",
   "execution_count": 20,
   "metadata": {},
   "outputs": [
    {
     "data": {
      "text/plain": [
       "0    fingerprint pregnancy test android apps beauti...\n",
       "1    finally transparant silicon case thanks uncle ...\n",
       "2    love would go talk makememories unplug relax i...\n",
       "3    im wired know im george made way iphone cute d...\n",
       "4    amazing service apple wont even talk question ...\n",
       "Name: tweet, dtype: object"
      ]
     },
     "execution_count": 20,
     "metadata": {},
     "output_type": "execute_result"
    }
   ],
   "source": [
    "data[\"tweet\"].head()"
   ]
  },
  {
   "cell_type": "markdown",
   "metadata": {},
   "source": [
    "Stemming"
   ]
  },
  {
   "cell_type": "code",
   "execution_count": 21,
   "metadata": {},
   "outputs": [],
   "source": [
    "from nltk.stem import PorterStemmer\n",
    "ps = PorterStemmer()"
   ]
  },
  {
   "cell_type": "code",
   "execution_count": 22,
   "metadata": {},
   "outputs": [],
   "source": [
    "data[\"tweet\"] = data[\"tweet\"].apply(lambda x: \" \".join(ps.stem(x) for x in x.split()))"
   ]
  },
  {
   "cell_type": "code",
   "execution_count": 23,
   "metadata": {},
   "outputs": [
    {
     "data": {
      "text/plain": [
       "(7920, 3)"
      ]
     },
     "execution_count": 23,
     "metadata": {},
     "output_type": "execute_result"
    }
   ],
   "source": [
    "data.shape"
   ]
  },
  {
   "cell_type": "markdown",
   "metadata": {},
   "source": [
    "#### Building Vacabulary"
   ]
  },
  {
   "cell_type": "code",
   "execution_count": 24,
   "metadata": {},
   "outputs": [],
   "source": [
    "from collections import Counter\n",
    "vocab = Counter()"
   ]
  },
  {
   "cell_type": "code",
   "execution_count": 25,
   "metadata": {},
   "outputs": [],
   "source": [
    "for sentence in data[\"tweet\"]:\n",
    "    vocab.update(sentence.split())"
   ]
  },
  {
   "cell_type": "code",
   "execution_count": 26,
   "metadata": {},
   "outputs": [
    {
     "data": {
      "text/plain": [
       "Counter({'iphon': 4073,\n",
       "         'appl': 2876,\n",
       "         'samsung': 1395,\n",
       "         'new': 1137,\n",
       "         'phone': 1015,\n",
       "         'follow': 885,\n",
       "         'soni': 819,\n",
       "         '…': 756,\n",
       "         'ipad': 537,\n",
       "         'rt': 525,\n",
       "         'love': 499,\n",
       "         'like': 456,\n",
       "         'day': 426,\n",
       "         'app': 416,\n",
       "         'life': 415,\n",
       "         'android': 414,\n",
       "         'photo': 394,\n",
       "         'get': 383,\n",
       "         'io': 383,\n",
       "         'galaxi': 361,\n",
       "         'instagram': 358,\n",
       "         'case': 348,\n",
       "         'beauti': 322,\n",
       "         'cute': 322,\n",
       "         'gain': 311,\n",
       "         'today': 309,\n",
       "         'work': 306,\n",
       "         'im': 294,\n",
       "         'back': 294,\n",
       "         'fuck': 293,\n",
       "         'happi': 293,\n",
       "         'photographi': 292,\n",
       "         'game': 283,\n",
       "         'got': 280,\n",
       "         'fun': 277,\n",
       "         'news': 265,\n",
       "         'music': 264,\n",
       "         'thank': 263,\n",
       "         'time': 248,\n",
       "         'make': 247,\n",
       "         'updat': 236,\n",
       "         'smile': 231,\n",
       "         'instagood': 226,\n",
       "         'funni': 223,\n",
       "         'one': 221,\n",
       "         'girl': 220,\n",
       "         'lol': 215,\n",
       "         'fashion': 215,\n",
       "         'itun': 212,\n",
       "         'ipod': 211,\n",
       "         'go': 209,\n",
       "         'tech': 206,\n",
       "         'birthday': 206,\n",
       "         'iphonex': 199,\n",
       "         'ps': 198,\n",
       "         'final': 192,\n",
       "         'photooftheday': 191,\n",
       "         'friend': 191,\n",
       "         'everyon': 189,\n",
       "         'cant': 180,\n",
       "         'good': 180,\n",
       "         'amaz': 178,\n",
       "         'use': 174,\n",
       "         'look': 171,\n",
       "         'fail': 169,\n",
       "         'dont': 168,\n",
       "         'must': 168,\n",
       "         'note': 166,\n",
       "         'want': 165,\n",
       "         'sougofollow': 165,\n",
       "         'selfi': 164,\n",
       "         'mac': 164,\n",
       "         'gift': 163,\n",
       "         'sale': 157,\n",
       "         'hate': 155,\n",
       "         'free': 149,\n",
       "         'babi': 148,\n",
       "         'would': 146,\n",
       "         'iger': 143,\n",
       "         'home': 143,\n",
       "         'year': 142,\n",
       "         'camera': 139,\n",
       "         'famili': 139,\n",
       "         'need': 138,\n",
       "         'iphonesia': 137,\n",
       "         'best': 136,\n",
       "         'smartphon': 134,\n",
       "         'cool': 134,\n",
       "         'art': 132,\n",
       "         'iphoneonli': 129,\n",
       "         'charger': 128,\n",
       "         'everi': 127,\n",
       "         'suck': 126,\n",
       "         'color': 125,\n",
       "         'live': 125,\n",
       "         'christma': 124,\n",
       "         'buy': 124,\n",
       "         'tri': 122,\n",
       "         'health': 120,\n",
       "         'summer': 119,\n",
       "         'picoftheday': 117,\n",
       "         'product': 117,\n",
       "         'shop': 116,\n",
       "         'thing': 116,\n",
       "         'white': 115,\n",
       "         'hour': 113,\n",
       "         'u': 113,\n",
       "         'still': 112,\n",
       "         'mobil': 111,\n",
       "         'minut': 111,\n",
       "         'much': 109,\n",
       "         'say': 109,\n",
       "         'even': 108,\n",
       "         'natur': 107,\n",
       "         'night': 107,\n",
       "         'awesom': 107,\n",
       "         'know': 106,\n",
       "         'come': 105,\n",
       "         'macbook': 105,\n",
       "         'window': 104,\n",
       "         'money': 103,\n",
       "         'screen': 102,\n",
       "         'ff': 102,\n",
       "         'laptop': 102,\n",
       "         'download': 101,\n",
       "         'ever': 101,\n",
       "         'great': 98,\n",
       "         'excit': 98,\n",
       "         'wish': 97,\n",
       "         'sexi': 94,\n",
       "         'wait': 94,\n",
       "         'take': 94,\n",
       "         'motorola': 94,\n",
       "         'delet': 93,\n",
       "         'style': 93,\n",
       "         'accessori': 93,\n",
       "         'store': 91,\n",
       "         'black': 90,\n",
       "         'instamood': 90,\n",
       "         'retweet': 90,\n",
       "         'comput': 89,\n",
       "         'last': 89,\n",
       "         'followm': 89,\n",
       "         'technolog': 88,\n",
       "         'wont': 87,\n",
       "         'twitter': 87,\n",
       "         'nice': 87,\n",
       "         'pink': 86,\n",
       "         'iphone…': 86,\n",
       "         'keep': 85,\n",
       "         'sweet': 85,\n",
       "         'peopl': 85,\n",
       "         'realli': 83,\n",
       "         'ive': 83,\n",
       "         'guy': 83,\n",
       "         'pictur': 82,\n",
       "         'morn': 82,\n",
       "         'charg': 81,\n",
       "         'watch': 81,\n",
       "         'video': 81,\n",
       "         'travel': 81,\n",
       "         'never': 81,\n",
       "         'first': 81,\n",
       "         'us': 80,\n",
       "         'batteri': 80,\n",
       "         'think': 80,\n",
       "         'right': 80,\n",
       "         'old': 80,\n",
       "         'fix': 80,\n",
       "         'via': 79,\n",
       "         'custom': 78,\n",
       "         'boy': 77,\n",
       "         'play': 77,\n",
       "         'give': 76,\n",
       "         'googl': 76,\n",
       "         'playstat': 76,\n",
       "         'job': 75,\n",
       "         'fuckyou': 75,\n",
       "         'everyth': 75,\n",
       "         'kid': 75,\n",
       "         'hey': 73,\n",
       "         'let': 73,\n",
       "         'tv': 73,\n",
       "         'toy': 73,\n",
       "         'made': 72,\n",
       "         'pretti': 72,\n",
       "         'well': 72,\n",
       "         'upgrad': 72,\n",
       "         'anoth': 71,\n",
       "         'dog': 71,\n",
       "         'feel': 71,\n",
       "         'cover': 71,\n",
       "         'pic': 70,\n",
       "         'see': 70,\n",
       "         'blue': 70,\n",
       "         'yay': 69,\n",
       "         'week': 69,\n",
       "         'red': 69,\n",
       "         'doesnt': 69,\n",
       "         'count': 69,\n",
       "         'stupid': 68,\n",
       "         'start': 68,\n",
       "         'text': 68,\n",
       "         'present': 68,\n",
       "         'world': 68,\n",
       "         'offer': 68,\n",
       "         'gadget': 68,\n",
       "         'x': 68,\n",
       "         'sun': 67,\n",
       "         'instadaili': 66,\n",
       "         'check': 66,\n",
       "         'quot': 65,\n",
       "         'nokia': 65,\n",
       "         'headphon': 65,\n",
       "         'big': 64,\n",
       "         'design': 64,\n",
       "         'food': 64,\n",
       "         'deal': 64,\n",
       "         'alway': 63,\n",
       "         'appstor': 63,\n",
       "         'friday': 63,\n",
       "         'date': 63,\n",
       "         'youtub': 62,\n",
       "         'book': 62,\n",
       "         'tl': 62,\n",
       "         'rhyme': 62,\n",
       "         'amazon': 61,\n",
       "         'sunset': 61,\n",
       "         'tablet': 61,\n",
       "         'cat': 61,\n",
       "         'pc': 61,\n",
       "         'xperia': 60,\n",
       "         'song': 60,\n",
       "         'laugh': 59,\n",
       "         'blackberri': 58,\n",
       "         'capetown': 58,\n",
       "         'ig': 58,\n",
       "         'hello': 58,\n",
       "         'bought': 57,\n",
       "         'sunday': 57,\n",
       "         'imag': 57,\n",
       "         'sky': 56,\n",
       "         'holiday': 56,\n",
       "         'lost': 56,\n",
       "         'sinc': 56,\n",
       "         'wow': 56,\n",
       "         'top': 56,\n",
       "         'better': 56,\n",
       "         'instap': 55,\n",
       "         'flower': 55,\n",
       "         'month': 55,\n",
       "         'hot': 55,\n",
       "         'surf': 55,\n",
       "         'followback': 54,\n",
       "         'oh': 54,\n",
       "         'gamer': 54,\n",
       "         'gb': 54,\n",
       "         'facebook': 54,\n",
       "         'way': 53,\n",
       "         'share': 53,\n",
       "         'green': 53,\n",
       "         'put': 53,\n",
       "         'capetownsup': 53,\n",
       "         'sup': 53,\n",
       "         'mine': 53,\n",
       "         'phonecas': 53,\n",
       "         'iphoneographi': 52,\n",
       "         'gold': 52,\n",
       "         'g': 52,\n",
       "         'valentin': 52,\n",
       "         'miss': 52,\n",
       "         'ye': 52,\n",
       "         'heart': 52,\n",
       "         'weekend': 52,\n",
       "         'servic': 51,\n",
       "         'newyear': 51,\n",
       "         'face': 51,\n",
       "         'th': 51,\n",
       "         'help': 51,\n",
       "         'wifi': 50,\n",
       "         'tweegram': 50,\n",
       "         'twitch': 50,\n",
       "         'moment': 50,\n",
       "         'call': 50,\n",
       "         'beach': 50,\n",
       "         'macbookpro': 50,\n",
       "         'find': 50,\n",
       "         'god': 50,\n",
       "         'hard': 49,\n",
       "         'hateappl': 49,\n",
       "         'iphoneplu': 49,\n",
       "         'chang': 49,\n",
       "         'dear': 48,\n",
       "         'parti': 48,\n",
       "         'pleas': 48,\n",
       "         'pay': 47,\n",
       "         'support': 47,\n",
       "         'arriv': 47,\n",
       "         'enjoy': 47,\n",
       "         'didnt': 47,\n",
       "         'yeah': 47,\n",
       "         'user': 46,\n",
       "         'ya': 46,\n",
       "         'littl': 46,\n",
       "         'stop': 46,\n",
       "         'pro': 46,\n",
       "         'show': 46,\n",
       "         'restor': 46,\n",
       "         'listen': 45,\n",
       "         'that': 45,\n",
       "         'problem': 45,\n",
       "         'siri': 45,\n",
       "         'power': 45,\n",
       "         'run': 44,\n",
       "         'came': 44,\n",
       "         'word': 44,\n",
       "         'swag': 44,\n",
       "         'welcom': 44,\n",
       "         'two': 44,\n",
       "         'could': 44,\n",
       "         'man': 44,\n",
       "         'newphon': 44,\n",
       "         'messag': 44,\n",
       "         'light': 43,\n",
       "         'win': 43,\n",
       "         'blog': 43,\n",
       "         'turn': 43,\n",
       "         'tweet': 43,\n",
       "         'likelik': 43,\n",
       "         'may': 43,\n",
       "         'fit': 43,\n",
       "         'plu': 43,\n",
       "         'lock': 43,\n",
       "         'order': 43,\n",
       "         'microsoft': 43,\n",
       "         'busi': 42,\n",
       "         'id': 42,\n",
       "         'devic': 42,\n",
       "         'usa': 42,\n",
       "         'car': 42,\n",
       "         'took': 42,\n",
       "         'avail': 42,\n",
       "         'sonyphoto': 42,\n",
       "         'switch': 42,\n",
       "         'gonna': 42,\n",
       "         'hair': 42,\n",
       "         'att': 42,\n",
       "         'relax': 41,\n",
       "         'crazi': 41,\n",
       "         'reason': 41,\n",
       "         'random': 41,\n",
       "         'alreadi': 41,\n",
       "         'nofilt': 41,\n",
       "         'oneplu': 41,\n",
       "         'insta': 41,\n",
       "         'vsco': 41,\n",
       "         'discount': 41,\n",
       "         '•': 41,\n",
       "         'cabl': 40,\n",
       "         'saturday': 40,\n",
       "         'joy': 40,\n",
       "         'model': 40,\n",
       "         'piss': 40,\n",
       "         'hope': 40,\n",
       "         'serious': 39,\n",
       "         'replac': 39,\n",
       "         'tab': 39,\n",
       "         'w': 39,\n",
       "         'readi': 39,\n",
       "         'bestpric': 39,\n",
       "         'bless': 39,\n",
       "         'tell': 39,\n",
       "         'coupl': 39,\n",
       "         'die': 39,\n",
       "         'done': 38,\n",
       "         'movi': 38,\n",
       "         'broken': 38,\n",
       "         'compani': 38,\n",
       "         'annoy': 38,\n",
       "         'photograph': 38,\n",
       "         'p': 38,\n",
       "         'haha': 38,\n",
       "         'tbt': 38,\n",
       "         'crash': 37,\n",
       "         'bad': 37,\n",
       "         'coffe': 37,\n",
       "         'imessag': 37,\n",
       "         'contact': 37,\n",
       "         'shit': 37,\n",
       "         'trip': 37,\n",
       "         'piec': 37,\n",
       "         'monday': 36,\n",
       "         'yet': 36,\n",
       "         'mom': 36,\n",
       "         'sync': 36,\n",
       "         'enough': 36,\n",
       "         'gay': 36,\n",
       "         '—': 36,\n",
       "         'iphonecas': 36,\n",
       "         'break': 36,\n",
       "         'hous': 36,\n",
       "         'noth': 35,\n",
       "         'tree': 35,\n",
       "         'peac': 35,\n",
       "         'stuff': 35,\n",
       "         'ago': 35,\n",
       "         'drop': 34,\n",
       "         'complet': 34,\n",
       "         'taken': 34,\n",
       "         'earli': 34,\n",
       "         'mani': 34,\n",
       "         'fan': 34,\n",
       "         'actual': 34,\n",
       "         'sleep': 34,\n",
       "         'long': 34,\n",
       "         'soon': 34,\n",
       "         'password': 34,\n",
       "         'next': 34,\n",
       "         'verizon': 34,\n",
       "         'anyon': 34,\n",
       "         'number': 34,\n",
       "         'fresh': 34,\n",
       "         'code': 34,\n",
       "         'decid': 34,\n",
       "         'samsunggalaxi': 33,\n",
       "         'sister': 33,\n",
       "         'spring': 33,\n",
       "         'send': 33,\n",
       "         'real': 33,\n",
       "         'unlock': 33,\n",
       "         'emoji': 33,\n",
       "         'care': 33,\n",
       "         'favorit': 33,\n",
       "         'happen': 33,\n",
       "         'mini': 33,\n",
       "         'someon': 32,\n",
       "         'instago': 32,\n",
       "         'chill': 32,\n",
       "         'teamfollowback': 32,\n",
       "         'someth': 32,\n",
       "         'featur': 32,\n",
       "         'galaxynot': 32,\n",
       "         'colleg': 32,\n",
       "         'sad': 32,\n",
       "         'k': 32,\n",
       "         'worst': 32,\n",
       "         'market': 31,\n",
       "         'set': 31,\n",
       "         'end': 31,\n",
       "         'singl': 31,\n",
       "         'portrait': 31,\n",
       "         'husband': 31,\n",
       "         'fast': 31,\n",
       "         'geek': 31,\n",
       "         'steemit': 31,\n",
       "         'london': 31,\n",
       "         'sony…': 31,\n",
       "         'anyth': 31,\n",
       "         'water': 30,\n",
       "         'email': 30,\n",
       "         'cloud': 30,\n",
       "         'followsunday': 30,\n",
       "         'perfect': 30,\n",
       "         'nyc': 30,\n",
       "         'learn': 30,\n",
       "         'healthi': 30,\n",
       "         'gratitud': 30,\n",
       "         'decor': 30,\n",
       "         'steve': 30,\n",
       "         'ill': 30,\n",
       "         'releas': 30,\n",
       "         'brand': 30,\n",
       "         'softwar': 29,\n",
       "         'button': 29,\n",
       "         'broke': 29,\n",
       "         'xbox': 29,\n",
       "         'school': 29,\n",
       "         'wonder': 29,\n",
       "         'fruit': 29,\n",
       "         'kindl': 29,\n",
       "         'air': 29,\n",
       "         'sonylen': 29,\n",
       "         'sonyphotographi': 29,\n",
       "         'sound': 29,\n",
       "         'kiss': 29,\n",
       "         'anim': 29,\n",
       "         'c': 28,\n",
       "         'pop': 28,\n",
       "         'wed': 28,\n",
       "         'z': 28,\n",
       "         'drink': 28,\n",
       "         'tomorrow': 28,\n",
       "         'dad': 28,\n",
       "         'beat': 28,\n",
       "         'puppi': 28,\n",
       "         'gone': 28,\n",
       "         'thailand': 28,\n",
       "         'sure': 28,\n",
       "         'talk': 27,\n",
       "         'connect': 27,\n",
       "         'bestfriend': 27,\n",
       "         'card': 27,\n",
       "         'ad': 27,\n",
       "         'version': 27,\n",
       "         'popular': 27,\n",
       "         'os': 27,\n",
       "         'stori': 27,\n",
       "         'dream': 27,\n",
       "         'cellphon': 27,\n",
       "         'florida': 27,\n",
       "         'lg': 27,\n",
       "         'without': 27,\n",
       "         'crap': 27,\n",
       "         'андроид': 27,\n",
       "         'map': 27,\n",
       "         'inspir': 27,\n",
       "         'cake': 27,\n",
       "         'instalov': 27,\n",
       "         'also': 27,\n",
       "         'said': 27,\n",
       "         'flash': 27,\n",
       "         'crack': 27,\n",
       "         'ok': 27,\n",
       "         'relationship': 27,\n",
       "         'pet': 26,\n",
       "         'brother': 26,\n",
       "         'daughter': 26,\n",
       "         'b': 26,\n",
       "         'read': 26,\n",
       "         'smart': 26,\n",
       "         'imac': 26,\n",
       "         'itali': 26,\n",
       "         'away': 26,\n",
       "         'ebay': 26,\n",
       "         'igdaili': 26,\n",
       "         'ugh': 26,\n",
       "         'instalik': 26,\n",
       "         'ask': 26,\n",
       "         'ilc': 26,\n",
       "         'pm': 26,\n",
       "         'uk': 25,\n",
       "         'eye': 25,\n",
       "         'film': 25,\n",
       "         'less': 25,\n",
       "         'memori': 25,\n",
       "         'gear': 25,\n",
       "         'whole': 25,\n",
       "         'garden': 25,\n",
       "         'super': 25,\n",
       "         'luxuri': 25,\n",
       "         'vocat': 25,\n",
       "         'khaoko': 25,\n",
       "         'htc': 25,\n",
       "         'psn': 25,\n",
       "         'post': 25,\n",
       "         'isnt': 25,\n",
       "         'purchas': 24,\n",
       "         'pie': 24,\n",
       "         'wallpap': 24,\n",
       "         'instahub': 24,\n",
       "         'differ': 24,\n",
       "         'newyork': 24,\n",
       "         'shoot': 24,\n",
       "         '–': 24,\n",
       "         'lifestyl': 24,\n",
       "         'hand': 24,\n",
       "         'instagood…': 24,\n",
       "         'jj': 24,\n",
       "         'there': 24,\n",
       "         'citi': 24,\n",
       "         'instal': 24,\n",
       "         'unitedst': 24,\n",
       "         'guitarplay': 24,\n",
       "         'mother': 24,\n",
       "         'india': 24,\n",
       "         'japan': 24,\n",
       "         'yesterday': 24,\n",
       "         'rain': 24,\n",
       "         'applewatch': 24,\n",
       "         'save': 24,\n",
       "         'idea': 24,\n",
       "         'leav': 24,\n",
       "         'mirror': 24,\n",
       "         'line': 24,\n",
       "         'entrepreneur': 24,\n",
       "         'xperiaz': 23,\n",
       "         'inch': 23,\n",
       "         'kill': 23,\n",
       "         'blackandwhit': 23,\n",
       "         'instacool': 23,\n",
       "         '£': 23,\n",
       "         'sport': 23,\n",
       "         'rock': 23,\n",
       "         'price': 23,\n",
       "         'full': 23,\n",
       "         'bestoftheday': 23,\n",
       "         'shotoniphon': 23,\n",
       "         'though': 23,\n",
       "         'makeup': 23,\n",
       "         'addict': 23,\n",
       "         'samsung…': 23,\n",
       "         'edit': 23,\n",
       "         'total': 23,\n",
       "         'photofe': 23,\n",
       "         'reallyr': 23,\n",
       "         'ador': 23,\n",
       "         'danc': 23,\n",
       "         'woman': 23,\n",
       "         'charm': 23,\n",
       "         'tshirt': 23,\n",
       "         'wtf': 23,\n",
       "         'snapspeed…': 23,\n",
       "         'lot': 23,\n",
       "         'click': 23,\n",
       "         'e': 23,\n",
       "         'fact': 22,\n",
       "         'goe': 22,\n",
       "         'receiv': 22,\n",
       "         'person': 22,\n",
       "         'keyboard': 22,\n",
       "         'usb': 22,\n",
       "         'icloud': 22,\n",
       "         'small': 22,\n",
       "         'orang': 22,\n",
       "         'true': 22,\n",
       "         'jun': 22,\n",
       "         'caus': 22,\n",
       "         'nike': 22,\n",
       "         'r': 22,\n",
       "         'went': 22,\n",
       "         'proud': 22,\n",
       "         'exquisit': 22,\n",
       "         'squishi': 22,\n",
       "         'strap': 22,\n",
       "         'human': 22,\n",
       "         'ly': 22,\n",
       "         'tonight': 22,\n",
       "         'facetim': 22,\n",
       "         'lose': 21,\n",
       "         'ootd': 21,\n",
       "         'bit': 21,\n",
       "         'thought': 21,\n",
       "         'repair': 21,\n",
       "         'liter': 21,\n",
       "         'tattoo': 21,\n",
       "         'chocol': 21,\n",
       "         'might': 21,\n",
       "         'bring': 21,\n",
       "         'boyfriend': 21,\n",
       "         'almost': 21,\n",
       "         'repost': 21,\n",
       "         'dj': 21,\n",
       "         'tuesday': 21,\n",
       "         'forev': 21,\n",
       "         'togeth': 21,\n",
       "         'street': 21,\n",
       "         'likeforlik': 20,\n",
       "         'dead': 20,\n",
       "         'truth': 20,\n",
       "         'ur': 20,\n",
       "         'hashtag': 20,\n",
       "         'ipadmini': 20,\n",
       "         'magic': 20,\n",
       "         'tmobil': 20,\n",
       "         'ship': 20,\n",
       "         'open': 20,\n",
       "         'prophet': 20,\n",
       "         'sick': 20,\n",
       "         'account': 20,\n",
       "         'drive': 20,\n",
       "         'len': 20,\n",
       "         'feed': 20,\n",
       "         'your': 20,\n",
       "         'els': 20,\n",
       "         'load': 20,\n",
       "         'link': 20,\n",
       "         'videogam': 20,\n",
       "         'data': 20,\n",
       "         'redbubbl': 20,\n",
       "         'what': 20,\n",
       "         'slow': 20,\n",
       "         'eat': 20,\n",
       "         'thankyou': 20,\n",
       "         'latest': 20,\n",
       "         'consol': 20,\n",
       "         'believ': 20,\n",
       "         'xma': 20,\n",
       "         'bore': 20,\n",
       "         'daddi': 20,\n",
       "         'type': 19,\n",
       "         'mess': 19,\n",
       "         'havent': 19,\n",
       "         'touch': 19,\n",
       "         'freak': 19,\n",
       "         'creativ': 19,\n",
       "         'it’': 19,\n",
       "         'wrong': 19,\n",
       "         'poem': 19,\n",
       "         'n': 19,\n",
       "         'min': 19,\n",
       "         'second': 19,\n",
       "         'fall': 19,\n",
       "         'past': 19,\n",
       "         'half': 19,\n",
       "         'simpl': 19,\n",
       "         'mm': 19,\n",
       "         'visit': 19,\n",
       "         'goodnight': 19,\n",
       "         'pick': 19,\n",
       "         'april': 19,\n",
       "         'futur': 19,\n",
       "         'shitti': 19,\n",
       "         'tag': 19,\n",
       "         'mean': 19,\n",
       "         'room': 19,\n",
       "         'men': 19,\n",
       "         'skin': 19,\n",
       "         'artist': 19,\n",
       "         'winter': 19,\n",
       "         'foodporn': 19,\n",
       "         'guess': 19,\n",
       "         'canon': 19,\n",
       "         'yummi': 19,\n",
       "         'photobooth': 19,\n",
       "         'patent': 18,\n",
       "         'cut': 18,\n",
       "         'indonesia': 18,\n",
       "         'sorri': 18,\n",
       "         'issu': 18,\n",
       "         'box': 18,\n",
       "         'bug': 18,\n",
       "         'fml': 18,\n",
       "         'offici': 18,\n",
       "         'sonyalpha': 18,\n",
       "         'high': 18,\n",
       "         'calendar': 18,\n",
       "         'team': 18,\n",
       "         'roll': 18,\n",
       "         'experi': 18,\n",
       "         'edg': 18,\n",
       "         'hd': 18,\n",
       "         'uniqu': 18,\n",
       "         'mind': 18,\n",
       "         'miami': 18,\n",
       "         'glad': 18,\n",
       "         'sea': 18,\n",
       "         'stay': 18,\n",
       "         'trend': 18,\n",
       "         'soror': 18,\n",
       "         'move': 18,\n",
       "         'wall': 17,\n",
       "         'daili': 17,\n",
       "         'vlog': 17,\n",
       "         'stand': 17,\n",
       "         'blackfriday': 17,\n",
       "         'reset': 17,\n",
       "         'special': 17,\n",
       "         'mood': 17,\n",
       "         'vaio': 17,\n",
       "         'throw': 17,\n",
       "         'passion': 17,\n",
       "         'sprint': 17,\n",
       "         'space': 17,\n",
       "         'hold': 17,\n",
       "         'freez': 17,\n",
       "         'mad': 17,\n",
       "         'purpos': 17,\n",
       "         'delici': 17,\n",
       "         'far': 17,\n",
       "         'al': 17,\n",
       "         'june': 17,\n",
       "         'canada': 17,\n",
       "         'sent': 17,\n",
       "         'captur': 17,\n",
       "         'march': 17,\n",
       "         'wipe': 17,\n",
       "         'wast': 17,\n",
       "         'zeeland': 17,\n",
       "         'nikon': 17,\n",
       "         'applesuck': 17,\n",
       "         'king': 17,\n",
       "         'trump': 17,\n",
       "         'california': 17,\n",
       "         'surpris': 17,\n",
       "         'protect': 17,\n",
       "         'novemb': 17,\n",
       "         'adventur': 17,\n",
       "         'digit': 17,\n",
       "         'internet': 17,\n",
       "         'stream': 17,\n",
       "         'rose': 17,\n",
       "         'develop': 17,\n",
       "         'outdoor': 16,\n",
       "         'creat': 16,\n",
       "         'landscap': 16,\n",
       "         'bright': 16,\n",
       "         'origin': 16,\n",
       "         'soul': 16,\n",
       "         'abl': 16,\n",
       "         'earphon': 16,\n",
       "         'banana': 16,\n",
       "         'spend': 16,\n",
       "         'stevejob': 16,\n",
       "         'least': 16,\n",
       "         'draw': 16,\n",
       "         'ny': 16,\n",
       "         'angri': 16,\n",
       "         'bird': 16,\n",
       "         'gorgeou': 16,\n",
       "         'dress': 16,\n",
       "         'manag': 16,\n",
       "         'wanna': 16,\n",
       "         'europ': 16,\n",
       "         'fish': 16,\n",
       "         'hateiphon': 16,\n",
       "         'inlov': 16,\n",
       "         'lte': 16,\n",
       "         'storag': 16,\n",
       "         'blond': 16,\n",
       "         'meet': 16,\n",
       "         'motiv': 16,\n",
       "         'sunni': 16,\n",
       "         'left': 16,\n",
       "         'walk': 16,\n",
       "         'v': 16,\n",
       "         'onlin': 16,\n",
       "         'fb': 16,\n",
       "         'colour': 16,\n",
       "         'hack': 16,\n",
       "         'snow': 16,\n",
       "         'join': 16,\n",
       "         'seem': 15,\n",
       "         'goal': 15,\n",
       "         'produc': 15,\n",
       "         'program': 15,\n",
       "         'univers': 15,\n",
       "         'yum': 15,\n",
       "         'shot': 15,\n",
       "         'children': 15,\n",
       "         'uae': 15,\n",
       "         'purpl': 15,\n",
       "         'mommi': 15,\n",
       "         'sell': 15,\n",
       "         'pari': 15,\n",
       "         'silver': 15,\n",
       "         'provid': 15,\n",
       "         'track': 15,\n",
       "         'photoshoot': 15,\n",
       "         'newtoy': 15,\n",
       "         'gener': 15,\n",
       "         'screw': 15,\n",
       "         'cook': 15,\n",
       "         'bye': 15,\n",
       "         'wireless': 15,\n",
       "         'part': 15,\n",
       "         'gotta': 15,\n",
       "         'explor': 15,\n",
       "         'followfollow': 15,\n",
       "         'f': 15,\n",
       "         'found': 15,\n",
       "         'longer': 15,\n",
       "         'celebr': 15,\n",
       "         'gave': 15,\n",
       "         'plan': 15,\n",
       "         'vintag': 15,\n",
       "         'later': 15,\n",
       "         'januari': 15,\n",
       "         'apple…': 15,\n",
       "         'gs': 15,\n",
       "         'question': 14,\n",
       "         'wife': 14,\n",
       "         'subscrib': 14,\n",
       "         'america': 14,\n",
       "         'bday': 14,\n",
       "         'bull': 14,\n",
       "         'ladi': 14,\n",
       "         'droid': 14,\n",
       "         'iphonephotographi': 14,\n",
       "         'singer': 14,\n",
       "         'i’m': 14,\n",
       "         'qualiti': 14,\n",
       "         'mode': 14,\n",
       "         'park': 14,\n",
       "         'rid': 14,\n",
       "         'level': 14,\n",
       "         'babe': 14,\n",
       "         'cold': 14,\n",
       "         'cri': 14,\n",
       "         'display': 14,\n",
       "         'okay': 14,\n",
       "         'valentinesday': 14,\n",
       "         'februari': 14,\n",
       "         'hi': 14,\n",
       "         'instaphoto': 14,\n",
       "         'middl': 14,\n",
       "         'info': 14,\n",
       "         'playlist': 14,\n",
       "         'bot': 14,\n",
       "         'event': 14,\n",
       "         'wouldnt': 14,\n",
       "         'speaker': 14,\n",
       "         'answer': 14,\n",
       "         'block': 14,\n",
       "         'finger': 14,\n",
       "         'anymor': 14,\n",
       "         'cell': 14,\n",
       "         'sticker': 14,\n",
       "         'vscocam': 14,\n",
       "         'librari': 14,\n",
       "         'tire': 14,\n",
       "         'electron': 14,\n",
       "         'useless': 14,\n",
       "         'starbuck': 14,\n",
       "         'dinner': 14,\n",
       "         'spent': 14,\n",
       "         'vacat': 14,\n",
       "         'social': 14,\n",
       "         'tip': 14,\n",
       "         'merri': 14,\n",
       "         'collect': 14,\n",
       "         'stuck': 14,\n",
       "         'blow': 14,\n",
       "         'blogger': 14,\n",
       "         'choos': 14,\n",
       "         'network': 14,\n",
       "         'innov': 14,\n",
       "         'asshol': 14,\n",
       "         'offic': 14,\n",
       "         'self': 14,\n",
       "         'current': 14,\n",
       "         'ink': 14,\n",
       "         'aliusaexpress': 14,\n",
       "         'mi': 14,\n",
       "         'bed': 14,\n",
       "         'goodby': 14,\n",
       "         'breakfast': 14,\n",
       "         'shoppinglist': 14,\n",
       "         'xd': 14,\n",
       "         'dessert': 14,\n",
       "         'led': 14,\n",
       "         'agre': 13,\n",
       "         'million': 13,\n",
       "         'view': 13,\n",
       "         'sonya': 13,\n",
       "         'cd': 13,\n",
       "         'nowplay': 13,\n",
       "         'sign': 13,\n",
       "         'educ': 13,\n",
       "         'bar': 13,\n",
       "         'key': 13,\n",
       "         'told': 13,\n",
       "         'three': 13,\n",
       "         'zoom': 13,\n",
       "         'close': 13,\n",
       "         'system': 13,\n",
       "         'goodmorn': 13,\n",
       "         'smoke': 13,\n",
       "         'bro': 13,\n",
       "         'thx': 13,\n",
       "         'jailbreak': 13,\n",
       "         'stock': 13,\n",
       "         'bc': 13,\n",
       "         'applestor': 13,\n",
       "         'wasnt': 13,\n",
       "         'da': 13,\n",
       "         'appletv': 13,\n",
       "         'bluetooth': 13,\n",
       "         'samsungmobil': 13,\n",
       "         'rs': 13,\n",
       "         'piano': 13,\n",
       "         'treat': 13,\n",
       "         'tagsforlik': 13,\n",
       "         'planet': 13,\n",
       "         'secur': 13,\n",
       "         'becom': 13,\n",
       "         'nail': 13,\n",
       "         'bitch': 13,\n",
       "         'sing': 13,\n",
       "         'till': 13,\n",
       "         'wors': 13,\n",
       "         'review': 13,\n",
       "         'mail': 13,\n",
       "         'webstagram': 13,\n",
       "         'ear': 13,\n",
       "         'forgot': 13,\n",
       "         'fire': 13,\n",
       "         'spoil': 13,\n",
       "         'huge': 13,\n",
       "         'weather': 13,\n",
       "         'place': 13,\n",
       "         'applesupport': 13,\n",
       "         'kind': 13,\n",
       "         'spotifi': 13,\n",
       "         'followtrick': 13,\n",
       "         'error': 13,\n",
       "         'launch': 13,\n",
       "         'minion': 13,\n",
       "         'mp': 13,\n",
       "         'test': 12,\n",
       "         'easter': 12,\n",
       "         ...})"
      ]
     },
     "execution_count": 26,
     "metadata": {},
     "output_type": "execute_result"
    }
   ],
   "source": [
    "vocab"
   ]
  },
  {
   "cell_type": "code",
   "execution_count": 27,
   "metadata": {},
   "outputs": [],
   "source": [
    "tokens = [key for key in vocab if vocab[key] > 10]"
   ]
  },
  {
   "cell_type": "code",
   "execution_count": 28,
   "metadata": {},
   "outputs": [
    {
     "data": {
      "text/plain": [
       "1146"
      ]
     },
     "execution_count": 28,
     "metadata": {},
     "output_type": "execute_result"
    }
   ],
   "source": [
    "len(tokens)"
   ]
  },
  {
   "cell_type": "code",
   "execution_count": 29,
   "metadata": {},
   "outputs": [],
   "source": [
    "def save_vocab(lines, filename):\n",
    "    data = '\\n'.join(lines)\n",
    "    file = open(filename, 'w', encoding=\"utf-8\")\n",
    "    file.write(data)\n",
    "    file.close()"
   ]
  },
  {
   "cell_type": "code",
   "execution_count": 30,
   "metadata": {},
   "outputs": [],
   "source": [
    "save_vocab(tokens, 'static/model/vocabulary.txt')"
   ]
  },
  {
   "cell_type": "code",
   "execution_count": 31,
   "metadata": {},
   "outputs": [],
   "source": [
    "x = data[\"tweet\"]\n",
    "y = data[\"label\"]"
   ]
  },
  {
   "cell_type": "code",
   "execution_count": 32,
   "metadata": {},
   "outputs": [],
   "source": [
    "from sklearn.model_selection import train_test_split\n",
    "x_train, x_test, y_train, y_test = train_test_split(x, y, test_size=0.2)"
   ]
  },
  {
   "cell_type": "code",
   "execution_count": 33,
   "metadata": {},
   "outputs": [
    {
     "data": {
      "text/plain": [
       "(6336,)"
      ]
     },
     "execution_count": 33,
     "metadata": {},
     "output_type": "execute_result"
    }
   ],
   "source": [
    "x_train.shape"
   ]
  },
  {
   "cell_type": "code",
   "execution_count": 34,
   "metadata": {},
   "outputs": [
    {
     "data": {
      "text/plain": [
       "(1584,)"
      ]
     },
     "execution_count": 34,
     "metadata": {},
     "output_type": "execute_result"
    }
   ],
   "source": [
    "x_test.shape"
   ]
  },
  {
   "cell_type": "code",
   "execution_count": 35,
   "metadata": {},
   "outputs": [
    {
     "data": {
      "text/plain": [
       "(6336,)"
      ]
     },
     "execution_count": 35,
     "metadata": {},
     "output_type": "execute_result"
    }
   ],
   "source": [
    "y_train.shape"
   ]
  },
  {
   "cell_type": "markdown",
   "metadata": {},
   "source": [
    "#### Vectorization"
   ]
  },
  {
   "cell_type": "code",
   "execution_count": 36,
   "metadata": {},
   "outputs": [],
   "source": [
    "def vectorizer(ds, vocabulary):\n",
    "    vectorized_list = []\n",
    "    \n",
    "    for sentence in ds:\n",
    "        sentence_list = np.zeros(len(vocabulary))  \n",
    "        \n",
    "        for i in range(len(vocabulary)):\n",
    "            if vocabulary[i] in sentence.split(): \n",
    "                sentence_list[i] = 1 \n",
    "        \n",
    "        vectorized_list.append(sentence_list) \n",
    "    \n",
    "    vectorized_list_new = np.asarray(vectorized_list, dtype=np.float32)\n",
    "    return vectorized_list_new"
   ]
  },
  {
   "cell_type": "code",
   "execution_count": 37,
   "metadata": {},
   "outputs": [],
   "source": [
    "vectorized_x_train = vectorizer(x_train, tokens)"
   ]
  },
  {
   "cell_type": "code",
   "execution_count": 38,
   "metadata": {},
   "outputs": [
    {
     "data": {
      "text/plain": [
       "array([[0., 0., 0., ..., 0., 0., 0.],\n",
       "       [0., 0., 0., ..., 0., 0., 0.],\n",
       "       [0., 0., 0., ..., 0., 0., 0.],\n",
       "       ...,\n",
       "       [0., 0., 0., ..., 0., 0., 0.],\n",
       "       [0., 0., 0., ..., 0., 0., 0.],\n",
       "       [0., 0., 0., ..., 0., 0., 0.]], dtype=float32)"
      ]
     },
     "execution_count": 38,
     "metadata": {},
     "output_type": "execute_result"
    }
   ],
   "source": [
    "vectorized_x_train"
   ]
  },
  {
   "cell_type": "code",
   "execution_count": 39,
   "metadata": {},
   "outputs": [],
   "source": [
    "vectorized_x_test = vectorizer(x_test, tokens)"
   ]
  },
  {
   "cell_type": "code",
   "execution_count": 40,
   "metadata": {},
   "outputs": [
    {
     "data": {
      "text/plain": [
       "119     0\n",
       "1799    0\n",
       "5555    0\n",
       "7389    0\n",
       "7913    1\n",
       "       ..\n",
       "7909    0\n",
       "6378    0\n",
       "5213    0\n",
       "557     0\n",
       "5723    0\n",
       "Name: label, Length: 1584, dtype: int64"
      ]
     },
     "execution_count": 40,
     "metadata": {},
     "output_type": "execute_result"
    }
   ],
   "source": [
    "y_test"
   ]
  },
  {
   "cell_type": "code",
   "execution_count": 41,
   "metadata": {},
   "outputs": [
    {
     "data": {
      "text/plain": [
       "label\n",
       "0    4699\n",
       "1    1637\n",
       "Name: count, dtype: int64"
      ]
     },
     "execution_count": 41,
     "metadata": {},
     "output_type": "execute_result"
    }
   ],
   "source": [
    "y_train.value_counts()"
   ]
  },
  {
   "cell_type": "code",
   "execution_count": 42,
   "metadata": {},
   "outputs": [
    {
     "data": {
      "text/plain": [
       "([<matplotlib.patches.Wedge at 0x220323ae0d0>,\n",
       "  <matplotlib.patches.Wedge at 0x22031f8d090>],\n",
       " [Text(-0.7571108237781816, 0.7979869676366421, 'Positive'),\n",
       "  Text(0.7571108935404179, -0.7979869014479061, 'Negative')])"
      ]
     },
     "execution_count": 42,
     "metadata": {},
     "output_type": "execute_result"
    },
    {
     "data": {
      "image/png": "[encoded data removed]",
      "text/plain": [
       "<Figure size 640x480 with 1 Axes>"
      ]
     },
     "metadata": {},
     "output_type": "display_data"
    }
   ],
   "source": [
    "plt.pie(np.array([y_train.value_counts()[0],y_train.value_counts()[1]]), labels=['Positive', 'Negative'])"
   ]
  },
  {
   "cell_type": "code",
   "execution_count": 43,
   "metadata": {},
   "outputs": [
    {
     "name": "stdout",
     "output_type": "stream",
     "text": [
      "(9398, 1146) (9398,)\n"
     ]
    }
   ],
   "source": [
    "from imblearn.over_sampling import SMOTE\n",
    "smote = SMOTE()\n",
    "vectorized_x_train_smote, y_train_smote = smote.fit_resample(vectorized_x_train, y_train)\n",
    "print(vectorized_x_train_smote.shape, y_train_smote.shape)"
   ]
  },
  {
   "cell_type": "code",
   "execution_count": 44,
   "metadata": {},
   "outputs": [
    {
     "data": {
      "text/plain": [
       "label\n",
       "1    4699\n",
       "0    4699\n",
       "Name: count, dtype: int64"
      ]
     },
     "execution_count": 44,
     "metadata": {},
     "output_type": "execute_result"
    }
   ],
   "source": [
    "y_train_smote.value_counts()"
   ]
  },
  {
   "cell_type": "code",
   "execution_count": 45,
   "metadata": {},
   "outputs": [
    {
     "data": {
      "text/plain": [
       "([<matplotlib.patches.Wedge at 0x220309c0950>,\n",
       "  <matplotlib.patches.Wedge at 0x22039864ad0>],\n",
       " [Text(-4.8082529002048655e-08, 1.099999999999999, 'Positive'),\n",
       "  Text(1.311736850028664e-08, -1.0999999999999999, 'Negative')])"
      ]
     },
     "execution_count": 45,
     "metadata": {},
     "output_type": "execute_result"
    },
    {
     "data": {
      "image/png": "[encoded data removed]",
      "text/plain": [
       "<Figure size 640x480 with 1 Axes>"
      ]
     },
     "metadata": {},
     "output_type": "display_data"
    }
   ],
   "source": [
    "plt.pie(np.array([y_train_smote.value_counts()[0],y_train_smote.value_counts()[1]]), labels=['Positive', 'Negative'])"
   ]
  },
  {
   "cell_type": "code",
   "execution_count": 46,
   "metadata": {},
   "outputs": [],
   "source": [
    "from sklearn.linear_model import LogisticRegression\n",
    "from sklearn.naive_bayes import MultinomialNB\n",
    "from sklearn.tree import DecisionTreeClassifier\n",
    "from sklearn.ensemble import RandomForestClassifier\n",
    "from sklearn.svm import SVC"
   ]
  },
  {
   "cell_type": "code",
   "execution_count": 47,
   "metadata": {},
   "outputs": [],
   "source": [
    "from sklearn.metrics import accuracy_score, f1_score, precision_score, recall_score\n",
    "\n",
    "def training_scores(y_act, y_pred):\n",
    "    acc = round(accuracy_score(y_act, y_pred), 3)\n",
    "    pr = round(precision_score(y_act, y_pred), 3)\n",
    "    rec = round(recall_score(y_act, y_pred), 3)\n",
    "    f1 = round(f1_score(y_act, y_pred), 3)\n",
    "    print(f\"Training Scores:\\n\\tAccuracy = {acc}\\n\\tPrecision = {pr}\\n\\tRecall = {rec}\\n\\tF1-Score = {f1}\")\n",
    "\n",
    "def validation_scores(y_act, y_pred):\n",
    "    acc = round(accuracy_score(y_act, y_pred), 3)\n",
    "    pr = round(precision_score(y_act, y_pred), 3)\n",
    "    rec = round(recall_score(y_act, y_pred), 3)\n",
    "    f1 = round(f1_score(y_act, y_pred), 3)\n",
    "    print(f\"Testing Scores:\\n\\tAccuracy = {acc}\\n\\tPrecision = {pr}\\n\\tRecall = {rec}\\n\\tF1-Score = {f1}\")\n"
   ]
  },
  {
   "cell_type": "markdown",
   "metadata": {},
   "source": [
    "#### Logistic Regression"
   ]
  },
  {
   "cell_type": "code",
   "execution_count": 49,
   "metadata": {},
   "outputs": [
    {
     "data": {
      "text/html": [
       "<style>#sk-container-id-1 {\n",
       "  /* Definition of color scheme common for light and dark mode */\n",
       "  --sklearn-color-text: black;\n",
       "  --sklearn-color-line: gray;\n",
       "  /* Definition of color scheme for unfitted estimators */\n",
       "  --sklearn-color-unfitted-level-0: #fff5e6;\n",
       "  --sklearn-color-unfitted-level-1: #f6e4d2;\n",
       "  --sklearn-color-unfitted-level-2: #ffe0b3;\n",
       "  --sklearn-color-unfitted-level-3: chocolate;\n",
       "  /* Definition of color scheme for fitted estimators */\n",
       "  --sklearn-color-fitted-level-0: #f0f8ff;\n",
       "  --sklearn-color-fitted-level-1: #d4ebff;\n",
       "  --sklearn-color-fitted-level-2: #b3dbfd;\n",
       "  --sklearn-color-fitted-level-3: cornflowerblue;\n",
       "\n",
       "  /* Specific color for light theme */\n",
       "  --sklearn-color-text-on-default-background: var(--sg-text-color, var(--theme-code-foreground, var(--jp-content-font-color1, black)));\n",
       "  --sklearn-color-background: var(--sg-background-color, var(--theme-background, var(--jp-layout-color0, white)));\n",
       "  --sklearn-color-border-box: var(--sg-text-color, var(--theme-code-foreground, var(--jp-content-font-color1, black)));\n",
       "  --sklearn-color-icon: #696969;\n",
       "\n",
       "  @media (prefers-color-scheme: dark) {\n",
       "    /* Redefinition of color scheme for dark theme */\n",
       "    --sklearn-color-text-on-default-background: var(--sg-text-color, var(--theme-code-foreground, var(--jp-content-font-color1, white)));\n",
       "    --sklearn-color-background: var(--sg-background-color, var(--theme-background, var(--jp-layout-color0, #111)));\n",
       "    --sklearn-color-border-box: var(--sg-text-color, var(--theme-code-foreground, var(--jp-content-font-color1, white)));\n",
       "    --sklearn-color-icon: #878787;\n",
       "  }\n",
       "}\n",
       "\n",
       "#sk-container-id-1 {\n",
       "  color: var(--sklearn-color-text);\n",
       "}\n",
       "\n",
       "#sk-container-id-1 pre {\n",
       "  padding: 0;\n",
       "}\n",
       "\n",
       "#sk-container-id-1 input.sk-hidden--visually {\n",
       "  border: 0;\n",
       "  clip: rect(1px 1px 1px 1px);\n",
       "  clip: rect(1px, 1px, 1px, 1px);\n",
       "  height: 1px;\n",
       "  margin: -1px;\n",
       "  overflow: hidden;\n",
       "  padding: 0;\n",
       "  position: absolute;\n",
       "  width: 1px;\n",
       "}\n",
       "\n",
       "#sk-container-id-1 div.sk-dashed-wrapped {\n",
       "  border: 1px dashed var(--sklearn-color-line);\n",
       "  margin: 0 0.4em 0.5em 0.4em;\n",
       "  box-sizing: border-box;\n",
       "  padding-bottom: 0.4em;\n",
       "  background-color: var(--sklearn-color-background);\n",
       "}\n",
       "\n",
       "#sk-container-id-1 div.sk-container {\n",
       "  /* jupyter's `normalize.less` sets `[hidden] { display: none; }`\n",
       "     but bootstrap.min.css set `[hidden] { display: none !important; }`\n",
       "     so we also need the `!important` here to be able to override the\n",
       "     default hidden behavior on the sphinx rendered scikit-learn.org.\n",
       "     See: https://github.com/scikit-learn/scikit-learn/issues/21755 */\n",
       "  display: inline-block !important;\n",
       "  position: relative;\n",
       "}\n",
       "\n",
       "#sk-container-id-1 div.sk-text-repr-fallback {\n",
       "  display: none;\n",
       "}\n",
       "\n",
       "div.sk-parallel-item,\n",
       "div.sk-serial,\n",
       "div.sk-item {\n",
       "  /* draw centered vertical line to link estimators */\n",
       "  background-image: linear-gradient(var(--sklearn-color-text-on-default-background), var(--sklearn-color-text-on-default-background));\n",
       "  background-size: 2px 100%;\n",
       "  background-repeat: no-repeat;\n",
       "  background-position: center center;\n",
       "}\n",
       "\n",
       "/* Parallel-specific style estimator block */\n",
       "\n",
       "#sk-container-id-1 div.sk-parallel-item::after {\n",
       "  content: \"\";\n",
       "  width: 100%;\n",
       "  border-bottom: 2px solid var(--sklearn-color-text-on-default-background);\n",
       "  flex-grow: 1;\n",
       "}\n",
       "\n",
       "#sk-container-id-1 div.sk-parallel {\n",
       "  display: flex;\n",
       "  align-items: stretch;\n",
       "  justify-content: center;\n",
       "  background-color: var(--sklearn-color-background);\n",
       "  position: relative;\n",
       "}\n",
       "\n",
       "#sk-container-id-1 div.sk-parallel-item {\n",
       "  display: flex;\n",
       "  flex-direction: column;\n",
       "}\n",
       "\n",
       "#sk-container-id-1 div.sk-parallel-item:first-child::after {\n",
       "  align-self: flex-end;\n",
       "  width: 50%;\n",
       "}\n",
       "\n",
       "#sk-container-id-1 div.sk-parallel-item:last-child::after {\n",
       "  align-self: flex-start;\n",
       "  width: 50%;\n",
       "}\n",
       "\n",
       "#sk-container-id-1 div.sk-parallel-item:only-child::after {\n",
       "  width: 0;\n",
       "}\n",
       "\n",
       "/* Serial-specific style estimator block */\n",
       "\n",
       "#sk-container-id-1 div.sk-serial {\n",
       "  display: flex;\n",
       "  flex-direction: column;\n",
       "  align-items: center;\n",
       "  background-color: var(--sklearn-color-background);\n",
       "  padding-right: 1em;\n",
       "  padding-left: 1em;\n",
       "}\n",
       "\n",
       "\n",
       "/* Toggleable style: style used for estimator/Pipeline/ColumnTransformer box that is\n",
       "clickable and can be expanded/collapsed.\n",
       "- Pipeline and ColumnTransformer use this feature and define the default style\n",
       "- Estimators will overwrite some part of the style using the `sk-estimator` class\n",
       "*/\n",
       "\n",
       "/* Pipeline and ColumnTransformer style (default) */\n",
       "\n",
       "#sk-container-id-1 div.sk-toggleable {\n",
       "  /* Default theme specific background. It is overwritten whether we have a\n",
       "  specific estimator or a Pipeline/ColumnTransformer */\n",
       "  background-color: var(--sklearn-color-background);\n",
       "}\n",
       "\n",
       "/* Toggleable label */\n",
       "#sk-container-id-1 label.sk-toggleable__label {\n",
       "  cursor: pointer;\n",
       "  display: block;\n",
       "  width: 100%;\n",
       "  margin-bottom: 0;\n",
       "  padding: 0.5em;\n",
       "  box-sizing: border-box;\n",
       "  text-align: center;\n",
       "}\n",
       "\n",
       "#sk-container-id-1 label.sk-toggleable__label-arrow:before {\n",
       "  /* Arrow on the left of the label */\n",
       "  content: \"▸\";\n",
       "  float: left;\n",
       "  margin-right: 0.25em;\n",
       "  color: var(--sklearn-color-icon);\n",
       "}\n",
       "\n",
       "#sk-container-id-1 label.sk-toggleable__label-arrow:hover:before {\n",
       "  color: var(--sklearn-color-text);\n",
       "}\n",
       "\n",
       "/* Toggleable content - dropdown */\n",
       "\n",
       "#sk-container-id-1 div.sk-toggleable__content {\n",
       "  max-height: 0;\n",
       "  max-width: 0;\n",
       "  overflow: hidden;\n",
       "  text-align: left;\n",
       "  /* unfitted */\n",
       "  background-color: var(--sklearn-color-unfitted-level-0);\n",
       "}\n",
       "\n",
       "#sk-container-id-1 div.sk-toggleable__content.fitted {\n",
       "  /* fitted */\n",
       "  background-color: var(--sklearn-color-fitted-level-0);\n",
       "}\n",
       "\n",
       "#sk-container-id-1 div.sk-toggleable__content pre {\n",
       "  margin: 0.2em;\n",
       "  border-radius: 0.25em;\n",
       "  color: var(--sklearn-color-text);\n",
       "  /* unfitted */\n",
       "  background-color: var(--sklearn-color-unfitted-level-0);\n",
       "}\n",
       "\n",
       "#sk-container-id-1 div.sk-toggleable__content.fitted pre {\n",
       "  /* unfitted */\n",
       "  background-color: var(--sklearn-color-fitted-level-0);\n",
       "}\n",
       "\n",
       "#sk-container-id-1 input.sk-toggleable__control:checked~div.sk-toggleable__content {\n",
       "  /* Expand drop-down */\n",
       "  max-height: 200px;\n",
       "  max-width: 100%;\n",
       "  overflow: auto;\n",
       "}\n",
       "\n",
       "#sk-container-id-1 input.sk-toggleable__control:checked~label.sk-toggleable__label-arrow:before {\n",
       "  content: \"▾\";\n",
       "}\n",
       "\n",
       "/* Pipeline/ColumnTransformer-specific style */\n",
       "\n",
       "#sk-container-id-1 div.sk-label input.sk-toggleable__control:checked~label.sk-toggleable__label {\n",
       "  color: var(--sklearn-color-text);\n",
       "  background-color: var(--sklearn-color-unfitted-level-2);\n",
       "}\n",
       "\n",
       "#sk-container-id-1 div.sk-label.fitted input.sk-toggleable__control:checked~label.sk-toggleable__label {\n",
       "  background-color: var(--sklearn-color-fitted-level-2);\n",
       "}\n",
       "\n",
       "/* Estimator-specific style */\n",
       "\n",
       "/* Colorize estimator box */\n",
       "#sk-container-id-1 div.sk-estimator input.sk-toggleable__control:checked~label.sk-toggleable__label {\n",
       "  /* unfitted */\n",
       "  background-color: var(--sklearn-color-unfitted-level-2);\n",
       "}\n",
       "\n",
       "#sk-container-id-1 div.sk-estimator.fitted input.sk-toggleable__control:checked~label.sk-toggleable__label {\n",
       "  /* fitted */\n",
       "  background-color: var(--sklearn-color-fitted-level-2);\n",
       "}\n",
       "\n",
       "#sk-container-id-1 div.sk-label label.sk-toggleable__label,\n",
       "#sk-container-id-1 div.sk-label label {\n",
       "  /* The background is the default theme color */\n",
       "  color: var(--sklearn-color-text-on-default-background);\n",
       "}\n",
       "\n",
       "/* On hover, darken the color of the background */\n",
       "#sk-container-id-1 div.sk-label:hover label.sk-toggleable__label {\n",
       "  color: var(--sklearn-color-text);\n",
       "  background-color: var(--sklearn-color-unfitted-level-2);\n",
       "}\n",
       "\n",
       "/* Label box, darken color on hover, fitted */\n",
       "#sk-container-id-1 div.sk-label.fitted:hover label.sk-toggleable__label.fitted {\n",
       "  color: var(--sklearn-color-text);\n",
       "  background-color: var(--sklearn-color-fitted-level-2);\n",
       "}\n",
       "\n",
       "/* Estimator label */\n",
       "\n",
       "#sk-container-id-1 div.sk-label label {\n",
       "  font-family: monospace;\n",
       "  font-weight: bold;\n",
       "  display: inline-block;\n",
       "  line-height: 1.2em;\n",
       "}\n",
       "\n",
       "#sk-container-id-1 div.sk-label-container {\n",
       "  text-align: center;\n",
       "}\n",
       "\n",
       "/* Estimator-specific */\n",
       "#sk-container-id-1 div.sk-estimator {\n",
       "  font-family: monospace;\n",
       "  border: 1px dotted var(--sklearn-color-border-box);\n",
       "  border-radius: 0.25em;\n",
       "  box-sizing: border-box;\n",
       "  margin-bottom: 0.5em;\n",
       "  /* unfitted */\n",
       "  background-color: var(--sklearn-color-unfitted-level-0);\n",
       "}\n",
       "\n",
       "#sk-container-id-1 div.sk-estimator.fitted {\n",
       "  /* fitted */\n",
       "  background-color: var(--sklearn-color-fitted-level-0);\n",
       "}\n",
       "\n",
       "/* on hover */\n",
       "#sk-container-id-1 div.sk-estimator:hover {\n",
       "  /* unfitted */\n",
       "  background-color: var(--sklearn-color-unfitted-level-2);\n",
       "}\n",
       "\n",
       "#sk-container-id-1 div.sk-estimator.fitted:hover {\n",
       "  /* fitted */\n",
       "  background-color: var(--sklearn-color-fitted-level-2);\n",
       "}\n",
       "\n",
       "/* Specification for estimator info (e.g. \"i\" and \"?\") */\n",
       "\n",
       "/* Common style for \"i\" and \"?\" */\n",
       "\n",
       ".sk-estimator-doc-link,\n",
       "a:link.sk-estimator-doc-link,\n",
       "a:visited.sk-estimator-doc-link {\n",
       "  float: right;\n",
       "  font-size: smaller;\n",
       "  line-height: 1em;\n",
       "  font-family: monospace;\n",
       "  background-color: var(--sklearn-color-background);\n",
       "  border-radius: 1em;\n",
       "  height: 1em;\n",
       "  width: 1em;\n",
       "  text-decoration: none !important;\n",
       "  margin-left: 1ex;\n",
       "  /* unfitted */\n",
       "  border: var(--sklearn-color-unfitted-level-1) 1pt solid;\n",
       "  color: var(--sklearn-color-unfitted-level-1);\n",
       "}\n",
       "\n",
       ".sk-estimator-doc-link.fitted,\n",
       "a:link.sk-estimator-doc-link.fitted,\n",
       "a:visited.sk-estimator-doc-link.fitted {\n",
       "  /* fitted */\n",
       "  border: var(--sklearn-color-fitted-level-1) 1pt solid;\n",
       "  color: var(--sklearn-color-fitted-level-1);\n",
       "}\n",
       "\n",
       "/* On hover */\n",
       "div.sk-estimator:hover .sk-estimator-doc-link:hover,\n",
       ".sk-estimator-doc-link:hover,\n",
       "div.sk-label-container:hover .sk-estimator-doc-link:hover,\n",
       ".sk-estimator-doc-link:hover {\n",
       "  /* unfitted */\n",
       "  background-color: var(--sklearn-color-unfitted-level-3);\n",
       "  color: var(--sklearn-color-background);\n",
       "  text-decoration: none;\n",
       "}\n",
       "\n",
       "div.sk-estimator.fitted:hover .sk-estimator-doc-link.fitted:hover,\n",
       ".sk-estimator-doc-link.fitted:hover,\n",
       "div.sk-label-container:hover .sk-estimator-doc-link.fitted:hover,\n",
       ".sk-estimator-doc-link.fitted:hover {\n",
       "  /* fitted */\n",
       "  background-color: var(--sklearn-color-fitted-level-3);\n",
       "  color: var(--sklearn-color-background);\n",
       "  text-decoration: none;\n",
       "}\n",
       "\n",
       "/* Span, style for the box shown on hovering the info icon */\n",
       ".sk-estimator-doc-link span {\n",
       "  display: none;\n",
       "  z-index: 9999;\n",
       "  position: relative;\n",
       "  font-weight: normal;\n",
       "  right: .2ex;\n",
       "  padding: .5ex;\n",
       "  margin: .5ex;\n",
       "  width: min-content;\n",
       "  min-width: 20ex;\n",
       "  max-width: 50ex;\n",
       "  color: var(--sklearn-color-text);\n",
       "  box-shadow: 2pt 2pt 4pt #999;\n",
       "  /* unfitted */\n",
       "  background: var(--sklearn-color-unfitted-level-0);\n",
       "  border: .5pt solid var(--sklearn-color-unfitted-level-3);\n",
       "}\n",
       "\n",
       ".sk-estimator-doc-link.fitted span {\n",
       "  /* fitted */\n",
       "  background: var(--sklearn-color-fitted-level-0);\n",
       "  border: var(--sklearn-color-fitted-level-3);\n",
       "}\n",
       "\n",
       ".sk-estimator-doc-link:hover span {\n",
       "  display: block;\n",
       "}\n",
       "\n",
       "/* \"?\"-specific style due to the `<a>` HTML tag */\n",
       "\n",
       "#sk-container-id-1 a.estimator_doc_link {\n",
       "  float: right;\n",
       "  font-size: 1rem;\n",
       "  line-height: 1em;\n",
       "  font-family: monospace;\n",
       "  background-color: var(--sklearn-color-background);\n",
       "  border-radius: 1rem;\n",
       "  height: 1rem;\n",
       "  width: 1rem;\n",
       "  text-decoration: none;\n",
       "  /* unfitted */\n",
       "  color: var(--sklearn-color-unfitted-level-1);\n",
       "  border: var(--sklearn-color-unfitted-level-1) 1pt solid;\n",
       "}\n",
       "\n",
       "#sk-container-id-1 a.estimator_doc_link.fitted {\n",
       "  /* fitted */\n",
       "  border: var(--sklearn-color-fitted-level-1) 1pt solid;\n",
       "  color: var(--sklearn-color-fitted-level-1);\n",
       "}\n",
       "\n",
       "/* On hover */\n",
       "#sk-container-id-1 a.estimator_doc_link:hover {\n",
       "  /* unfitted */\n",
       "  background-color: var(--sklearn-color-unfitted-level-3);\n",
       "  color: var(--sklearn-color-background);\n",
       "  text-decoration: none;\n",
       "}\n",
       "\n",
       "#sk-container-id-1 a.estimator_doc_link.fitted:hover {\n",
       "  /* fitted */\n",
       "  background-color: var(--sklearn-color-fitted-level-3);\n",
       "}\n",
       "</style><div id=\"sk-container-id-1\" class=\"sk-top-container\"><div class=\"sk-text-repr-fallback\"><pre>LogisticRegression()</pre><b>In a Jupyter environment, please rerun this cell to show the HTML representation or trust the notebook. <br />On GitHub, the HTML representation is unable to render, please try loading this page with nbviewer.org.</b></div><div class=\"sk-container\" hidden><div class=\"sk-item\"><div class=\"sk-estimator fitted sk-toggleable\"><input class=\"sk-toggleable__control sk-hidden--visually\" id=\"sk-estimator-id-1\" type=\"checkbox\" checked><label for=\"sk-estimator-id-1\" class=\"sk-toggleable__label fitted sk-toggleable__label-arrow fitted\">&nbsp;&nbsp;LogisticRegression<a class=\"sk-estimator-doc-link fitted\" rel=\"noreferrer\" target=\"_blank\" href=\"https://scikit-learn.org/1.5/modules/generated/sklearn.linear_model.LogisticRegression.html\">?<span>Documentation for LogisticRegression</span></a><span class=\"sk-estimator-doc-link fitted\">i<span>Fitted</span></span></label><div class=\"sk-toggleable__content fitted\"><pre>LogisticRegression()</pre></div> </div></div></div></div>"
      ],
      "text/plain": [
       "LogisticRegression()"
      ]
     },
     "execution_count": 49,
     "metadata": {},
     "output_type": "execute_result"
    }
   ],
   "source": [
    "lr = LogisticRegression()\n",
    "lr.fit(vectorized_x_train_smote, y_train_smote)"
   ]
  },
  {
   "cell_type": "code",
   "execution_count": 50,
   "metadata": {},
   "outputs": [],
   "source": [
    "y_train_pred = lr.predict(vectorized_x_train_smote)"
   ]
  },
  {
   "cell_type": "code",
   "execution_count": 51,
   "metadata": {},
   "outputs": [
    {
     "data": {
      "text/plain": [
       "array([1, 0, 0, ..., 1, 1, 1])"
      ]
     },
     "execution_count": 51,
     "metadata": {},
     "output_type": "execute_result"
    }
   ],
   "source": [
    "y_train_pred"
   ]
  },
  {
   "cell_type": "code",
   "execution_count": 52,
   "metadata": {},
   "outputs": [
    {
     "data": {
      "text/plain": [
       "0       1\n",
       "1       0\n",
       "2       0\n",
       "3       1\n",
       "4       0\n",
       "       ..\n",
       "9393    1\n",
       "9394    1\n",
       "9395    1\n",
       "9396    1\n",
       "9397    1\n",
       "Name: label, Length: 9398, dtype: int64"
      ]
     },
     "execution_count": 52,
     "metadata": {},
     "output_type": "execute_result"
    }
   ],
   "source": [
    "y_train_smote"
   ]
  },
  {
   "cell_type": "code",
   "execution_count": 53,
   "metadata": {},
   "outputs": [
    {
     "name": "stdout",
     "output_type": "stream",
     "text": [
      "Training Scores:\n",
      "\tAccuracy = 0.94\n",
      "\tPrecision = 0.917\n",
      "\tRecall = 0.968\n",
      "\tF1-Score = 0.942\n"
     ]
    }
   ],
   "source": [
    "training_scores(y_train_smote, y_train_pred)"
   ]
  },
  {
   "cell_type": "code",
   "execution_count": 55,
   "metadata": {},
   "outputs": [],
   "source": [
    "y_test_pred = lr.predict(vectorized_x_test)"
   ]
  },
  {
   "cell_type": "code",
   "execution_count": 57,
   "metadata": {},
   "outputs": [
    {
     "name": "stdout",
     "output_type": "stream",
     "text": [
      "Testing Scores:\n",
      "\tAccuracy = 0.859\n",
      "\tPrecision = 0.691\n",
      "\tRecall = 0.771\n",
      "\tF1-Score = 0.729\n"
     ]
    }
   ],
   "source": [
    "validation_scores(y_test, y_test_pred)"
   ]
  },
  {
   "cell_type": "markdown",
   "metadata": {},
   "source": [
    "#### Naive Bayes"
   ]
  },
  {
   "cell_type": "code",
   "execution_count": 58,
   "metadata": {},
   "outputs": [
    {
     "name": "stdout",
     "output_type": "stream",
     "text": [
      "Training Scores:\n",
      "\tAccuracy = 0.909\n",
      "\tPrecision = 0.871\n",
      "\tRecall = 0.961\n",
      "\tF1-Score = 0.914\n",
      "Testing Scores:\n",
      "\tAccuracy = 0.876\n",
      "\tPrecision = 0.684\n",
      "\tRecall = 0.923\n",
      "\tF1-Score = 0.786\n"
     ]
    }
   ],
   "source": [
    "mnb = MultinomialNB()\n",
    "mnb.fit(vectorized_x_train_smote, y_train_smote)\n",
    "\n",
    "y_train_pred = mnb.predict(vectorized_x_train_smote)\n",
    "\n",
    "y_test_pred = mnb.predict(vectorized_x_test)\n",
    "\n",
    "training_scores(y_train_smote, y_train_pred)\n",
    "\n",
    "validation_scores(y_test, y_test_pred)\n"
   ]
  },
  {
   "cell_type": "markdown",
   "metadata": {},
   "source": [
    "#### Desicion Tree"
   ]
  },
  {
   "cell_type": "code",
   "execution_count": 59,
   "metadata": {},
   "outputs": [
    {
     "name": "stdout",
     "output_type": "stream",
     "text": [
      "Training Scores:\n",
      "\tAccuracy = 1.0\n",
      "\tPrecision = 1.0\n",
      "\tRecall = 0.999\n",
      "\tF1-Score = 1.0\n",
      "Testing Scores:\n",
      "\tAccuracy = 0.853\n",
      "\tPrecision = 0.701\n",
      "\tRecall = 0.699\n",
      "\tF1-Score = 0.7\n"
     ]
    }
   ],
   "source": [
    "dt = DecisionTreeClassifier()\n",
    "dt.fit(vectorized_x_train_smote, y_train_smote)\n",
    "\n",
    "y_train_pred = dt.predict(vectorized_x_train_smote)\n",
    "\n",
    "y_test_pred = dt.predict(vectorized_x_test)\n",
    "\n",
    "training_scores(y_train_smote, y_train_pred)\n",
    "\n",
    "validation_scores(y_test, y_test_pred)"
   ]
  },
  {
   "cell_type": "markdown",
   "metadata": {},
   "source": [
    "#### Random Forest"
   ]
  },
  {
   "cell_type": "code",
   "execution_count": 60,
   "metadata": {},
   "outputs": [
    {
     "name": "stdout",
     "output_type": "stream",
     "text": [
      "Training Scores:\n",
      "\tAccuracy = 1.0\n",
      "\tPrecision = 1.0\n",
      "\tRecall = 0.999\n",
      "\tF1-Score = 1.0\n",
      "Testing Scores:\n",
      "\tAccuracy = 0.878\n",
      "\tPrecision = 0.775\n",
      "\tRecall = 0.707\n",
      "\tF1-Score = 0.739\n"
     ]
    }
   ],
   "source": [
    "fr = RandomForestClassifier()\n",
    "fr.fit(vectorized_x_train_smote, y_train_smote)\n",
    "\n",
    "y_train_pred = fr.predict(vectorized_x_train_smote)\n",
    "\n",
    "y_test_pred = fr.predict(vectorized_x_test)\n",
    "\n",
    "training_scores(y_train_smote, y_train_pred)\n",
    "\n",
    "validation_scores(y_test, y_test_pred)"
   ]
  },
  {
   "cell_type": "markdown",
   "metadata": {},
   "source": [
    "#### SVM"
   ]
  },
  {
   "cell_type": "code",
   "execution_count": 61,
   "metadata": {},
   "outputs": [
    {
     "name": "stdout",
     "output_type": "stream",
     "text": [
      "Training Scores:\n",
      "\tAccuracy = 0.979\n",
      "\tPrecision = 0.964\n",
      "\tRecall = 0.996\n",
      "\tF1-Score = 0.98\n",
      "Testing Scores:\n",
      "\tAccuracy = 0.884\n",
      "\tPrecision = 0.759\n",
      "\tRecall = 0.776\n",
      "\tF1-Score = 0.767\n"
     ]
    }
   ],
   "source": [
    "svm = SVC()\n",
    "svm.fit(vectorized_x_train_smote, y_train_smote)\n",
    "\n",
    "y_train_pred = svm.predict(vectorized_x_train_smote)\n",
    "\n",
    "y_test_pred = svm.predict(vectorized_x_test)\n",
    "\n",
    "training_scores(y_train_smote, y_train_pred)\n",
    "\n",
    "validation_scores(y_test, y_test_pred)"
   ]
  },
  {
   "cell_type": "code",
   "execution_count": 62,
   "metadata": {},
   "outputs": [],
   "source": [
    "import pickle"
   ]
  },
  {
   "cell_type": "code",
   "execution_count": 64,
   "metadata": {},
   "outputs": [],
   "source": [
    "with open('static/model/model.pickle', 'wb') as file:\n",
    "    [pickle.dump(lr, file)]"
   ]
  },
  {
   "cell_type": "code",
   "execution_count": 65,
   "metadata": {},
   "outputs": [],
   "source": [
    "with open('static/model/model1.pickle', 'wb') as file:\n",
    "    [pickle.dump(mnb, file)]"
   ]
  },
  {
   "cell_type": "code",
   "execution_count": 66,
   "metadata": {},
   "outputs": [],
   "source": [
    "with open('static/model/model2.pickle', 'wb') as file:\n",
    "    [pickle.dump(dt, file)]"
   ]
  },
  {
   "cell_type": "code",
   "execution_count": null,
   "metadata": {},
   "outputs": [],
   "source": []
  }
 ],
 "metadata": {
  "kernelspec": {
   "display_name": "env",
   "language": "python",
   "name": "python3"
  },
  "language_info": {
   "codemirror_mode": {
    "name": "ipython",
    "version": 3
   },
   "file_extension": ".py",
   "mimetype": "text/x-python",
   "name": "python",
   "nbconvert_exporter": "python",
   "pygments_lexer": "ipython3",
   "version": "3.11.5"
  }
 },
 "nbformat": 4,
 "nbformat_minor": 2
}
